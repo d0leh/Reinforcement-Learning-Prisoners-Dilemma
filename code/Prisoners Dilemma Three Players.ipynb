{
 "cells": [
  {
   "cell_type": "markdown",
   "metadata": {},
   "source": [
    "# Prisoners Dilemma Three Players"
   ]
  },
  {
   "cell_type": "code",
   "execution_count": null,
   "metadata": {},
   "outputs": [],
   "source": [
    "# !pip install gym[classic_control]\n",
    "# !pip install keras-rl2\n",
    "# !pip install protobuf==3.20.*"
   ]
  },
  {
   "cell_type": "code",
   "execution_count": 1,
   "metadata": {},
   "outputs": [],
   "source": [
    "import tensorflow as tf\n",
    "from tensorflow import keras as k\n",
    "import numpy as np\n",
    "import gym\n",
    "import random\n",
    "from tensorflow.keras.models import Sequential\n",
    "from tensorflow.keras.layers import Dense, Flatten\n",
    "from tensorflow.keras.optimizers import Adam\n",
    "\n",
    "from keras import __version__\n",
    "tf.keras.__version__ = __version__\n",
    "\n",
    "from rl.agents import DQNAgent\n",
    "from rl.policy import BoltzmannQPolicy\n",
    "from rl.memory import SequentialMemory\n",
    "\n",
    "\n",
    "from gym import Env\n",
    "from gym.spaces import Discrete, Box, MultiBinary\n",
    "import numpy as np\n",
    "import random\n",
    "\n",
    "from collections import deque"
   ]
  },
  {
   "cell_type": "markdown",
   "metadata": {},
   "source": [
    "# Setting Up the Environment"
   ]
  },
  {
   "cell_type": "code",
   "execution_count": 2,
   "metadata": {},
   "outputs": [],
   "source": [
    "def tit_for_tat_all(round,opp1_move,opp2_move):\n",
    "  if round == 200:\n",
    "    return 1\n",
    "  else:\n",
    "    return opp1_move and opp2_move\n",
    "\n",
    "def tit_for_tat_any(round,opp1_move,opp2_move):\n",
    "  if round == 200:\n",
    "    return 1\n",
    "  else:\n",
    "    return opp1_move or opp2_move"
   ]
  },
  {
   "cell_type": "code",
   "execution_count": 3,
   "metadata": {},
   "outputs": [],
   "source": [
    "def cooperate():\n",
    "  return 1\n",
    "\n",
    "def defect():\n",
    "  return 0\n",
    "\n",
    "def rand():\n",
    "  return random.randint(0,1)"
   ]
  },
  {
   "cell_type": "code",
   "execution_count": 4,
   "metadata": {},
   "outputs": [],
   "source": [
    "def tit_for_two_tat_any(round, opp1_move1, opp1_move2, opp2_move1, opp2_move2):\n",
    "  if round >= 199 or opp1_move1 == 1 or opp1_move1 == 1 or opp2_move1 or opp2_move2:\n",
    "    return 1\n",
    "  else:\n",
    "    return 0\n",
    "\n",
    "def tit_for_two_tat_all(round, opp1_move1, opp1_move2, opp2_move1, opp2_move2):\n",
    "  if round >= 199 or (opp1_move1 == 1 or opp1_move2 == 1) and (opp2_move1 or opp2_move2):\n",
    "    return 1\n",
    "  else:\n",
    "    return 0"
   ]
  },
  {
   "cell_type": "code",
   "execution_count": 5,
   "metadata": {},
   "outputs": [],
   "source": [
    "def soft_grudger_any(last_defect1, last_defect2):\n",
    "  if last_defect1 < 4 or last_defect2 < 4:\n",
    "    return 0\n",
    "  else:\n",
    "    return 1\n",
    "\n",
    "def soft_grudger_all(last_defect1, last_defect2):\n",
    "  if last_defect1 < 4 and last_defect2 < 4:\n",
    "    return 0\n",
    "  else:\n",
    "    return 1"
   ]
  },
  {
   "cell_type": "code",
   "execution_count": 6,
   "metadata": {},
   "outputs": [],
   "source": [
    "class ThreePlayers():\n",
    "    def __init__(self):\n",
    "        self.action_space = Discrete(2)                      # 0:defect 1:cooperate\n",
    "        self.observation_space = np.array([MultiBinary(10), MultiBinary(10)])\n",
    "        self.round = 200\n",
    "\n",
    "        self.state = np.array([[-1,-1,-1,-1,-1,-1,-1,-1,-1,-1],[-1,-1,-1,-1,-1,-1,-1,-1,-1,-1]])\n",
    "\n",
    "        self.opp1_strategy = random.randint(0,9)\n",
    "        self.opp1_move1=self.state[0][0]\n",
    "        self.opp1_move2=self.state[0][1]\n",
    "\n",
    "        self.opp2_strategy = random.randint(0,9)\n",
    "        self.opp2_move1=self.state[1][0]\n",
    "        self.opp2_move2=self.state[1][1]\n",
    "\n",
    "        self.last_move1=1\n",
    "        self.last_move2=1\n",
    "\n",
    "        self.opp1_defected=False\n",
    "        self.opp2_defected=False\n",
    "        self.user_defected=False\n",
    "\n",
    "        self.last_defect= np.Infinity\n",
    "        self.opp1_last_defect= np.Infinity\n",
    "        self.opp2_last_defect= np.Infinity\n",
    "        self.move=np.array([random.randint(0,1),random.randint(0,1)])\n",
    "\n",
    "        self.opp1_score = 0\n",
    "        self.opp2_score = 0\n",
    "\n",
    "\n",
    "    def step(self, action):\n",
    "        self.opp1_move1=self.state[0][0]\n",
    "        self.opp1_move2=self.state[0][1]\n",
    "\n",
    "        self.opp2_move1=self.state[1][0]\n",
    "        self.opp2_move2=self.state[1][1]\n",
    "\n",
    "        self.last_move2=self.last_move1\n",
    "        self.last_move1=self.move\n",
    "\n",
    "        self.move=action\n",
    "\n",
    "\n",
    "        if self.opp1_strategy == 0:\n",
    "          opp1_move=tit_for_tat_any(self.round,self.last_move1, self.opp2_move1)\n",
    "        elif self.opp1_strategy == 1:\n",
    "          opp1_move=tit_for_tat_all(self.round,self.last_move1, self.opp2_move1)\n",
    "        elif self.opp1_strategy == 2:\n",
    "          opp1_move=tit_for_two_tat_all(self.round, self.last_move1, self.last_move2, self.opp2_move1, self.opp2_move2)\n",
    "        elif self.opp1_strategy == 3:\n",
    "          opp1_move=tit_for_two_tat_any(self.round, self.last_move1, self.last_move2, self.opp2_move1, self.opp2_move2)\n",
    "        elif self.opp1_strategy == 4:\n",
    "          opp1_move=soft_grudger_any(self.last_defect, self.opp2_last_defect)\n",
    "        elif self.opp1_strategy == 5:\n",
    "          opp1_move=soft_grudger_all(self.last_defect, self.opp2_last_defect)\n",
    "\n",
    "        if self.opp2_strategy == 0:\n",
    "          opp2_move=tit_for_tat_any(self.round,self.last_move1, self.opp1_move1)\n",
    "        elif self.opp2_strategy == 1:\n",
    "          opp2_move=tit_for_tat_all(self.round,self.last_move1, self.opp1_move1)\n",
    "        elif self.opp2_strategy == 2:\n",
    "          opp2_move=tit_for_two_tat_all(self.round, self.last_move1, self.last_move2, self.opp1_move1, self.opp1_move2)\n",
    "        elif self.opp2_strategy == 3:\n",
    "          opp2_move=tit_for_two_tat_any(self.round, self.last_move1, self.last_move2, self.opp1_move1, self.opp1_move2)\n",
    "        elif self.opp2_strategy == 4:\n",
    "          opp2_move=soft_grudger_any(self.last_defect, self.opp1_last_defect)\n",
    "        elif self.opp2_strategy == 5:\n",
    "          opp2_move=soft_grudger_all(self.last_defect, self.opp1_last_defect)\n",
    "\n",
    "\n",
    "\n",
    "        temp = np.array(list(self.state[0]))\n",
    "        for i in range(1,10):\n",
    "          self.state[0][i] = temp[i-1]\n",
    "        self.state[0][0] = opp1_move\n",
    "\n",
    "        temp = np.array(list(self.state[1]))\n",
    "        for i in range(1,10):\n",
    "          self.state[1][i] = temp[i-1]\n",
    "        self.state[1][0] = opp2_move\n",
    "\n",
    "\n",
    "\n",
    "        if opp1_move == 0:\n",
    "          self.opp1_defected=True\n",
    "          self.opp1_last_defect=0\n",
    "        else:\n",
    "          self.opp1_last_defect += 1\n",
    "\n",
    "        if opp2_move == 0:\n",
    "          self.opp2_defected=True\n",
    "          self.opp2_last_defect=0\n",
    "        else:\n",
    "          self.opp2_last_defect += 1\n",
    "\n",
    "        if self.move == 0:\n",
    "          self.user_defected=True\n",
    "          self.last_defect=0\n",
    "        else:\n",
    "          self.last_defect += 1\n",
    "\n",
    "\n",
    "\n",
    "        if self.move == 1 and opp1_move == 1 and opp2_move ==  1:\n",
    "          reward = 4\n",
    "          self.opp1_score += 4\n",
    "          self.opp2_score += 4\n",
    "        elif self.move == 1 and opp1_move == 1 and opp2_move == 0:\n",
    "          reward = 0\n",
    "          self.opp1_score += 0\n",
    "          self.opp2_score += 10\n",
    "        elif self.move == 1 and opp1_move == 0 and opp2_move == 1:\n",
    "          reward = 0\n",
    "          self.opp1_score += 10\n",
    "          self.opp2_score += 0\n",
    "        elif self.move == 1 and opp1_move == 0 and opp2_move == 0:\n",
    "          reward = 0\n",
    "          self.opp1_score += 5\n",
    "          self.opp2_score += 5\n",
    "        elif self.move == 0 and opp1_move == 1 and opp2_move ==  1:\n",
    "          reward = 10\n",
    "          self.opp1_score += 0\n",
    "          self.opp2_score += 0\n",
    "        elif self.move == 0 and opp1_move == 1 and opp2_move == 0:\n",
    "          reward = 5\n",
    "          self.opp1_score += 0\n",
    "          self.opp2_score += 5\n",
    "        elif self.move == 0 and opp1_move == 0 and opp2_move == 1:\n",
    "          reward = 5\n",
    "          self.opp1_score += 5\n",
    "          self.opp2_score += 0\n",
    "        elif self.move == 0 and opp1_move == 0 and opp2_move == 0:\n",
    "          reward = 2\n",
    "          self.opp1_score += 2\n",
    "          self.opp2_score += 2\n",
    "\n",
    "        self.round -= 1\n",
    "\n",
    "        if self.round == 0:\n",
    "            done = True\n",
    "        else:\n",
    "            done = False\n",
    "\n",
    "        info = {'opp1_score':self.opp1_score, 'opp2_score':self.opp2_score}\n",
    "\n",
    "\n",
    "        # Return step information\n",
    "        return self.state, reward, done, info\n",
    "\n",
    "    def render(self,mode):\n",
    "        # Implement viz\n",
    "        pass\n",
    "\n",
    "    def reset(self):\n",
    "        self.round = 200\n",
    "        self.opp1_strategy = random.randint(0,5)\n",
    "        self.opp2_strategy = random.randint(0,5)\n",
    "        self.state = np.array([[-1,-1,-1,-1,-1,-1,-1,-1,-1,-1],[-1,-1,-1,-1,-1,-1,-1,-1,-1,-1]])\n",
    "        self.opp1_move1=self.state[0][0]\n",
    "        self.opp1_move2=self.state[0][1]\n",
    "        self.opp2_move1=self.state[1][0]\n",
    "        self.opp2_move2=self.state[1][1]\n",
    "        self.last_move1=1\n",
    "        self.last_move2=1\n",
    "        self.opp1_defected=False\n",
    "        self.opp2_defected=False\n",
    "        self.user_defected=False\n",
    "        self.last_defect= np.Infinity\n",
    "        self.opp1_last_defect= np.Infinity\n",
    "        self.opp2_last_defect= np.Infinity\n",
    "        self.gamma=0.9\n",
    "        self.move=random.randint(0,1)\n",
    "        self.reward = 0\n",
    "\n",
    "        self.opp1_score = 0\n",
    "        self.opp2_score = 0\n",
    "\n",
    "        return self.state"
   ]
  },
  {
   "cell_type": "code",
   "execution_count": 7,
   "metadata": {},
   "outputs": [],
   "source": [
    "env = ThreePlayers()"
   ]
  },
  {
   "cell_type": "code",
   "execution_count": 8,
   "metadata": {},
   "outputs": [
    {
     "data": {
      "text/plain": [
       "array([[-1, -1, -1, -1, -1, -1, -1, -1, -1, -1],\n",
       "       [-1, -1, -1, -1, -1, -1, -1, -1, -1, -1]])"
      ]
     },
     "execution_count": 8,
     "metadata": {},
     "output_type": "execute_result"
    }
   ],
   "source": [
    "env.state"
   ]
  },
  {
   "cell_type": "markdown",
   "metadata": {},
   "source": [
    "# Test on Random Values"
   ]
  },
  {
   "cell_type": "code",
   "execution_count": 12,
   "metadata": {},
   "outputs": [
    {
     "name": "stdout",
     "output_type": "stream",
     "text": [
      "2 5\n",
      "Episode:1 Score:313 Info:{'opp1_score': 663, 'opp2_score': 698}\n",
      "4 4\n",
      "Episode:2 Score:212 Info:{'opp1_score': 697, 'opp2_score': 697}\n",
      "4 5\n",
      "Episode:3 Score:231 Info:{'opp1_score': 781, 'opp2_score': 656}\n",
      "3 2\n",
      "Episode:4 Score:1160 Info:{'opp1_score': 345, 'opp2_score': 635}\n",
      "4 5\n",
      "Episode:5 Score:230 Info:{'opp1_score': 750, 'opp2_score': 670}\n",
      "0 0\n",
      "Episode:6 Score:1418 Info:{'opp1_score': 388, 'opp2_score': 388}\n",
      "0 3\n",
      "Episode:7 Score:1352 Info:{'opp1_score': 432, 'opp2_score': 432}\n",
      "3 0\n",
      "Episode:8 Score:1370 Info:{'opp1_score': 420, 'opp2_score': 420}\n",
      "4 5\n",
      "Episode:9 Score:247 Info:{'opp1_score': 692, 'opp2_score': 637}\n",
      "5 3\n",
      "Episode:10 Score:1430 Info:{'opp1_score': 380, 'opp2_score': 380}\n",
      "5 4\n",
      "Episode:11 Score:236 Info:{'opp1_score': 656, 'opp2_score': 746}\n",
      "5 3\n",
      "Episode:12 Score:1394 Info:{'opp1_score': 404, 'opp2_score': 404}\n",
      "0 3\n",
      "Episode:13 Score:1406 Info:{'opp1_score': 396, 'opp2_score': 396}\n",
      "2 5\n",
      "Episode:14 Score:367 Info:{'opp1_score': 672, 'opp2_score': 707}\n",
      "4 3\n",
      "Episode:15 Score:411 Info:{'opp1_score': 1151, 'opp2_score': 306}\n",
      "1 5\n",
      "Episode:16 Score:233 Info:{'opp1_score': 733, 'opp2_score': 688}\n",
      "5 0\n",
      "Episode:17 Score:1352 Info:{'opp1_score': 432, 'opp2_score': 432}\n",
      "5 3\n",
      "Episode:18 Score:1424 Info:{'opp1_score': 384, 'opp2_score': 384}\n",
      "3 0\n",
      "Episode:19 Score:1322 Info:{'opp1_score': 452, 'opp2_score': 452}\n",
      "5 0\n",
      "Episode:20 Score:1334 Info:{'opp1_score': 444, 'opp2_score': 444}\n",
      "3 3\n",
      "Episode:21 Score:1472 Info:{'opp1_score': 352, 'opp2_score': 352}\n",
      "2 1\n",
      "Episode:22 Score:225 Info:{'opp1_score': 685, 'opp2_score': 700}\n",
      "5 2\n",
      "Episode:23 Score:242 Info:{'opp1_score': 712, 'opp2_score': 692}\n",
      "0 5\n",
      "Episode:24 Score:1376 Info:{'opp1_score': 416, 'opp2_score': 416}\n",
      "0 5\n",
      "Episode:25 Score:1406 Info:{'opp1_score': 396, 'opp2_score': 396}\n",
      "3 1\n",
      "Episode:26 Score:795 Info:{'opp1_score': 345, 'opp2_score': 890}\n",
      "1 0\n",
      "Episode:27 Score:691 Info:{'opp1_score': 866, 'opp2_score': 351}\n",
      "0 5\n",
      "Episode:28 Score:1460 Info:{'opp1_score': 360, 'opp2_score': 360}\n",
      "4 4\n",
      "Episode:29 Score:214 Info:{'opp1_score': 689, 'opp2_score': 689}\n",
      "3 5\n",
      "Episode:30 Score:1442 Info:{'opp1_score': 372, 'opp2_score': 372}\n",
      "5 0\n",
      "Episode:31 Score:1412 Info:{'opp1_score': 392, 'opp2_score': 392}\n",
      "1 2\n",
      "Episode:32 Score:273 Info:{'opp1_score': 698, 'opp2_score': 653}\n",
      "1 1\n",
      "Episode:33 Score:212 Info:{'opp1_score': 692, 'opp2_score': 692}\n",
      "0 3\n",
      "Episode:34 Score:1370 Info:{'opp1_score': 420, 'opp2_score': 420}\n",
      "2 0\n",
      "Episode:35 Score:1075 Info:{'opp1_score': 600, 'opp2_score': 415}\n",
      "0 5\n",
      "Episode:36 Score:1370 Info:{'opp1_score': 420, 'opp2_score': 420}\n",
      "5 2\n",
      "Episode:37 Score:308 Info:{'opp1_score': 678, 'opp2_score': 678}\n",
      "2 5\n",
      "Episode:38 Score:306 Info:{'opp1_score': 656, 'opp2_score': 706}\n",
      "4 3\n",
      "Episode:39 Score:385 Info:{'opp1_score': 1045, 'opp2_score': 360}\n",
      "5 5\n",
      "Episode:40 Score:1484 Info:{'opp1_score': 344, 'opp2_score': 344}\n",
      "1 4\n",
      "Episode:41 Score:216 Info:{'opp1_score': 686, 'opp2_score': 686}\n",
      "1 5\n",
      "Episode:42 Score:259 Info:{'opp1_score': 699, 'opp2_score': 654}\n",
      "5 4\n",
      "Episode:43 Score:215 Info:{'opp1_score': 690, 'opp2_score': 785}\n",
      "4 0\n",
      "Episode:44 Score:416 Info:{'opp1_score': 1066, 'opp2_score': 356}\n",
      "1 4\n",
      "Episode:45 Score:222 Info:{'opp1_score': 687, 'opp2_score': 687}\n",
      "3 2\n",
      "Episode:46 Score:1160 Info:{'opp1_score': 335, 'opp2_score': 635}\n",
      "5 1\n",
      "Episode:47 Score:254 Info:{'opp1_score': 659, 'opp2_score': 699}\n",
      "3 3\n",
      "Episode:48 Score:1334 Info:{'opp1_score': 444, 'opp2_score': 444}\n",
      "3 0\n",
      "Episode:49 Score:1346 Info:{'opp1_score': 436, 'opp2_score': 436}\n",
      "1 1\n",
      "Episode:50 Score:212 Info:{'opp1_score': 697, 'opp2_score': 697}\n",
      "0 0\n",
      "Episode:51 Score:1394 Info:{'opp1_score': 404, 'opp2_score': 404}\n",
      "5 5\n",
      "Episode:52 Score:1406 Info:{'opp1_score': 396, 'opp2_score': 396}\n",
      "4 2\n",
      "Episode:53 Score:211 Info:{'opp1_score': 706, 'opp2_score': 691}\n",
      "5 5\n",
      "Episode:54 Score:1424 Info:{'opp1_score': 384, 'opp2_score': 384}\n",
      "2 2\n",
      "Episode:55 Score:234 Info:{'opp1_score': 694, 'opp2_score': 694}\n",
      "4 0\n",
      "Episode:56 Score:432 Info:{'opp1_score': 1077, 'opp2_score': 377}\n",
      "1 4\n",
      "Episode:57 Score:216 Info:{'opp1_score': 701, 'opp2_score': 701}\n",
      "1 4\n",
      "Episode:58 Score:204 Info:{'opp1_score': 704, 'opp2_score': 704}\n",
      "1 4\n",
      "Episode:59 Score:194 Info:{'opp1_score': 719, 'opp2_score': 719}\n",
      "2 2\n",
      "Episode:60 Score:228 Info:{'opp1_score': 693, 'opp2_score': 693}\n",
      "3 5\n",
      "Episode:61 Score:1424 Info:{'opp1_score': 384, 'opp2_score': 384}\n",
      "1 4\n",
      "Episode:62 Score:210 Info:{'opp1_score': 695, 'opp2_score': 695}\n",
      "2 3\n",
      "Episode:63 Score:1190 Info:{'opp1_score': 635, 'opp2_score': 335}\n",
      "0 5\n",
      "Episode:64 Score:1382 Info:{'opp1_score': 412, 'opp2_score': 412}\n",
      "2 2\n",
      "Episode:65 Score:216 Info:{'opp1_score': 716, 'opp2_score': 716}\n",
      "5 2\n",
      "Episode:66 Score:348 Info:{'opp1_score': 723, 'opp2_score': 663}\n",
      "2 4\n",
      "Episode:67 Score:201 Info:{'opp1_score': 706, 'opp2_score': 721}\n",
      "0 4\n",
      "Episode:68 Score:428 Info:{'opp1_score': 363, 'opp2_score': 1073}\n",
      "3 3\n",
      "Episode:69 Score:1316 Info:{'opp1_score': 456, 'opp2_score': 456}\n",
      "3 1\n",
      "Episode:70 Score:755 Info:{'opp1_score': 315, 'opp2_score': 880}\n",
      "1 2\n",
      "Episode:71 Score:235 Info:{'opp1_score': 670, 'opp2_score': 665}\n",
      "1 0\n",
      "Episode:72 Score:743 Info:{'opp1_score': 888, 'opp2_score': 333}\n",
      "2 3\n",
      "Episode:73 Score:1157 Info:{'opp1_score': 652, 'opp2_score': 307}\n",
      "1 2\n",
      "Episode:74 Score:195 Info:{'opp1_score': 725, 'opp2_score': 720}\n",
      "1 1\n",
      "Episode:75 Score:220 Info:{'opp1_score': 680, 'opp2_score': 680}\n",
      "4 0\n",
      "Episode:76 Score:404 Info:{'opp1_score': 1099, 'opp2_score': 339}\n",
      "1 0\n",
      "Episode:77 Score:737 Info:{'opp1_score': 857, 'opp2_score': 392}\n",
      "4 3\n",
      "Episode:78 Score:416 Info:{'opp1_score': 1121, 'opp2_score': 311}\n",
      "0 0\n",
      "Episode:79 Score:1436 Info:{'opp1_score': 376, 'opp2_score': 376}\n",
      "5 5\n",
      "Episode:80 Score:1424 Info:{'opp1_score': 384, 'opp2_score': 384}\n",
      "1 0\n",
      "Episode:81 Score:678 Info:{'opp1_score': 828, 'opp2_score': 358}\n",
      "4 2\n",
      "Episode:82 Score:241 Info:{'opp1_score': 661, 'opp2_score': 646}\n",
      "3 2\n",
      "Episode:83 Score:1099 Info:{'opp1_score': 309, 'opp2_score': 644}\n",
      "4 2\n",
      "Episode:84 Score:181 Info:{'opp1_score': 751, 'opp2_score': 746}\n",
      "1 4\n",
      "Episode:85 Score:192 Info:{'opp1_score': 722, 'opp2_score': 722}\n",
      "0 1\n",
      "Episode:86 Score:736 Info:{'opp1_score': 381, 'opp2_score': 891}\n",
      "5 2\n",
      "Episode:87 Score:338 Info:{'opp1_score': 658, 'opp2_score': 648}\n",
      "0 3\n",
      "Episode:88 Score:1358 Info:{'opp1_score': 428, 'opp2_score': 428}\n",
      "1 4\n",
      "Episode:89 Score:188 Info:{'opp1_score': 728, 'opp2_score': 728}\n",
      "3 4\n",
      "Episode:90 Score:406 Info:{'opp1_score': 331, 'opp2_score': 1141}\n",
      "5 5\n",
      "Episode:91 Score:1364 Info:{'opp1_score': 424, 'opp2_score': 424}\n",
      "4 5\n",
      "Episode:92 Score:219 Info:{'opp1_score': 724, 'opp2_score': 689}\n",
      "4 2\n",
      "Episode:93 Score:211 Info:{'opp1_score': 706, 'opp2_score': 701}\n",
      "2 0\n",
      "Episode:94 Score:1122 Info:{'opp1_score': 607, 'opp2_score': 387}\n",
      "5 3\n",
      "Episode:95 Score:1448 Info:{'opp1_score': 368, 'opp2_score': 368}\n",
      "2 5\n",
      "Episode:96 Score:352 Info:{'opp1_score': 672, 'opp2_score': 692}\n",
      "5 0\n",
      "Episode:97 Score:1364 Info:{'opp1_score': 424, 'opp2_score': 424}\n",
      "2 0\n",
      "Episode:98 Score:1049 Info:{'opp1_score': 609, 'opp2_score': 414}\n",
      "3 3\n",
      "Episode:99 Score:1454 Info:{'opp1_score': 364, 'opp2_score': 364}\n",
      "3 2\n",
      "Episode:100 Score:1186 Info:{'opp1_score': 316, 'opp2_score': 646}\n",
      "win rate: 0.43\n"
     ]
    }
   ],
   "source": [
    "env = ThreePlayers()\n",
    "episodes = 100\n",
    "wins=0\n",
    "for episode in range(1, episodes+1):\n",
    "    state = env.reset()\n",
    "    print(env.opp1_strategy, env.opp2_strategy)\n",
    "    done = False\n",
    "    score = 0\n",
    "    while not done:\n",
    "        action = env.action_space.sample()\n",
    "        n_state, reward, done, info = env.step(action)\n",
    "        score+=reward\n",
    "    if score > info['opp1_score'] and score > info['opp2_score']:\n",
    "      wins += 1\n",
    "\n",
    "    print('Episode:{} Score:{} Info:{}'.format(episode, score, info))\n",
    "print(f\"win rate: {wins/100}\")"
   ]
  },
  {
   "cell_type": "markdown",
   "metadata": {},
   "source": [
    "# Deep Learning Model"
   ]
  },
  {
   "cell_type": "code",
   "execution_count": 10,
   "metadata": {},
   "outputs": [
    {
     "data": {
      "text/plain": [
       "(2, 10)"
      ]
     },
     "execution_count": 10,
     "metadata": {},
     "output_type": "execute_result"
    }
   ],
   "source": [
    "env.state.shape"
   ]
  },
  {
   "cell_type": "code",
   "execution_count": 13,
   "metadata": {},
   "outputs": [
    {
     "data": {
      "text/plain": [
       "(2,)"
      ]
     },
     "execution_count": 13,
     "metadata": {},
     "output_type": "execute_result"
    }
   ],
   "source": [
    "env.observation_space.shape"
   ]
  },
  {
   "cell_type": "code",
   "execution_count": 14,
   "metadata": {},
   "outputs": [],
   "source": [
    "states = env.state.shape\n",
    "actions = env.action_space.n"
   ]
  },
  {
   "cell_type": "code",
   "execution_count": 15,
   "metadata": {},
   "outputs": [
    {
     "data": {
      "text/plain": [
       "(2, 10)"
      ]
     },
     "execution_count": 15,
     "metadata": {},
     "output_type": "execute_result"
    }
   ],
   "source": [
    "states"
   ]
  },
  {
   "cell_type": "code",
   "execution_count": 16,
   "metadata": {},
   "outputs": [
    {
     "data": {
      "text/plain": [
       "2"
      ]
     },
     "execution_count": 16,
     "metadata": {},
     "output_type": "execute_result"
    }
   ],
   "source": [
    "actions"
   ]
  },
  {
   "cell_type": "code",
   "execution_count": 17,
   "metadata": {},
   "outputs": [],
   "source": [
    "def build_model(states, actions):\n",
    "    model = Sequential()\n",
    "    model.add(Dense(128, activation='relu', input_shape=(1, 2, 10), input_dim=3))\n",
    "    model.add(Dense(128, activation='relu'))\n",
    "    model.add(Dense(128, activation='relu'))\n",
    "    model.add(Dense(1, activation='softmax'))\n",
    "    model.add(Flatten())\n",
    "    return model"
   ]
  },
  {
   "cell_type": "code",
   "execution_count": 19,
   "metadata": {},
   "outputs": [],
   "source": [
    "# del model"
   ]
  },
  {
   "cell_type": "code",
   "execution_count": 20,
   "metadata": {},
   "outputs": [],
   "source": [
    "model = build_model(states, actions)"
   ]
  },
  {
   "cell_type": "code",
   "execution_count": 21,
   "metadata": {},
   "outputs": [
    {
     "name": "stdout",
     "output_type": "stream",
     "text": [
      "Model: \"sequential\"\n",
      "_________________________________________________________________\n",
      " Layer (type)                Output Shape              Param #   \n",
      "=================================================================\n",
      " dense (Dense)               (None, 1, 2, 128)         1408      \n",
      "                                                                 \n",
      " dense_1 (Dense)             (None, 1, 2, 128)         16512     \n",
      "                                                                 \n",
      " dense_2 (Dense)             (None, 1, 2, 128)         16512     \n",
      "                                                                 \n",
      " dense_3 (Dense)             (None, 1, 2, 1)           129       \n",
      "                                                                 \n",
      " flatten (Flatten)           (None, 2)                 0         \n",
      "                                                                 \n",
      "=================================================================\n",
      "Total params: 34,561\n",
      "Trainable params: 34,561\n",
      "Non-trainable params: 0\n",
      "_________________________________________________________________\n"
     ]
    }
   ],
   "source": [
    "model.summary()"
   ]
  },
  {
   "cell_type": "code",
   "execution_count": 22,
   "metadata": {},
   "outputs": [
    {
     "data": {
      "text/plain": [
       "(None, 1, 2, 10)"
      ]
     },
     "execution_count": 22,
     "metadata": {},
     "output_type": "execute_result"
    }
   ],
   "source": [
    "model.input_shape"
   ]
  },
  {
   "cell_type": "code",
   "execution_count": 23,
   "metadata": {},
   "outputs": [
    {
     "data": {
      "text/plain": [
       "(2, 10)"
      ]
     },
     "execution_count": 23,
     "metadata": {},
     "output_type": "execute_result"
    }
   ],
   "source": [
    "env.state.shape"
   ]
  },
  {
   "cell_type": "code",
   "execution_count": 24,
   "metadata": {},
   "outputs": [
    {
     "data": {
      "text/plain": [
       "2"
      ]
     },
     "execution_count": 24,
     "metadata": {},
     "output_type": "execute_result"
    }
   ],
   "source": [
    "actions"
   ]
  },
  {
   "cell_type": "code",
   "execution_count": 25,
   "metadata": {},
   "outputs": [],
   "source": [
    "def build_agent(model, actions):\n",
    "    policy = BoltzmannQPolicy()\n",
    "    memory = SequentialMemory(limit=50000, window_length=1)\n",
    "    dqn = DQNAgent(model=model, memory=memory, policy=policy,\n",
    "                  nb_actions=actions)\n",
    "    return dqn"
   ]
  },
  {
   "cell_type": "code",
   "execution_count": 26,
   "metadata": {},
   "outputs": [
    {
     "name": "stdout",
     "output_type": "stream",
     "text": [
      "WARNING:tensorflow:From c:\\Users\\Mohammad Doleh\\AppData\\Local\\Programs\\Python\\Python310\\lib\\site-packages\\tensorflow\\python\\autograph\\pyct\\static_analysis\\liveness.py:83: Analyzer.lamba_check (from tensorflow.python.autograph.pyct.static_analysis.liveness) is deprecated and will be removed after 2023-09-23.\n",
      "Instructions for updating:\n",
      "Lambda fuctions will be no more assumed to be used in the statement where they are used, or at least in the same block. https://github.com/tensorflow/tensorflow/issues/56089\n",
      "Training for 25000 steps ...\n",
      "Interval 1 (0 steps performed)\n",
      "    1/10000 [..............................] - ETA: 30:15 - reward: 10.0000"
     ]
    },
    {
     "name": "stderr",
     "output_type": "stream",
     "text": [
      "c:\\Users\\Mohammad Doleh\\AppData\\Local\\Programs\\Python\\Python310\\lib\\site-packages\\keras\\engine\\training_v1.py:2357: UserWarning: `Model.state_updates` will be removed in a future version. This property should not be used in TensorFlow 2.0, as `updates` are applied automatically.\n",
      "  updates=self.state_updates,\n"
     ]
    },
    {
     "name": "stdout",
     "output_type": "stream",
     "text": [
      "10000/10000 [==============================] - 75s 8ms/step - reward: 3.2453\n",
      "50 episodes - episode_reward: 649.060 [192.000, 1460.000] - loss: 12.435 - mae: 2.255 - mean_q: 1.000 - opp1_score: 305.429 - opp2_score: 298.851\n",
      "\n",
      "Interval 2 (10000 steps performed)\n",
      "10000/10000 [==============================] - 77s 8ms/step - reward: 3.1312\n",
      "50 episodes - episode_reward: 626.240 [204.000, 1436.000] - loss: 11.202 - mae: 2.123 - mean_q: 1.000 - opp1_score: 302.924 - opp2_score: 302.485\n",
      "\n",
      "Interval 3 (20000 steps performed)\n",
      " 5000/10000 [==============>...............] - ETA: 37s - reward: 2.8786done, took 189.981 seconds\n"
     ]
    },
    {
     "data": {
      "text/plain": [
       "<keras.callbacks.History at 0x15f250fcc40>"
      ]
     },
     "execution_count": 26,
     "metadata": {},
     "output_type": "execute_result"
    }
   ],
   "source": [
    "dqn = build_agent(model, actions)\n",
    "dqn.compile(optimizer=tf.keras.optimizers.legacy.Adam(learning_rate=1e-3),metrics=['mae'])\n",
    "#dqn.compile(Adam(lr=1e-3), metrics=['mae'])\n",
    "dqn.fit(env, nb_steps=25000, visualize=False)"
   ]
  },
  {
   "cell_type": "code",
   "execution_count": 27,
   "metadata": {},
   "outputs": [
    {
     "name": "stdout",
     "output_type": "stream",
     "text": [
      "Testing for 100 episodes ...\n",
      "Episode 1: reward: 414.000, steps: 200\n",
      "Episode 2: reward: 411.000, steps: 200\n",
      "Episode 3: reward: 411.000, steps: 200\n",
      "Episode 4: reward: 416.000, steps: 200\n",
      "Episode 5: reward: 2000.000, steps: 200\n",
      "Episode 6: reward: 2000.000, steps: 200\n",
      "Episode 7: reward: 2000.000, steps: 200\n",
      "Episode 8: reward: 411.000, steps: 200\n",
      "Episode 9: reward: 2000.000, steps: 200\n",
      "Episode 10: reward: 411.000, steps: 200\n",
      "Episode 11: reward: 411.000, steps: 200\n",
      "Episode 12: reward: 419.000, steps: 200\n",
      "Episode 13: reward: 422.000, steps: 200\n",
      "Episode 14: reward: 2000.000, steps: 200\n",
      "Episode 15: reward: 422.000, steps: 200\n",
      "Episode 16: reward: 2000.000, steps: 200\n",
      "Episode 17: reward: 414.000, steps: 200\n",
      "Episode 18: reward: 422.000, steps: 200\n",
      "Episode 19: reward: 411.000, steps: 200\n",
      "Episode 20: reward: 411.000, steps: 200\n",
      "Episode 21: reward: 416.000, steps: 200\n",
      "Episode 22: reward: 2000.000, steps: 200\n",
      "Episode 23: reward: 411.000, steps: 200\n",
      "Episode 24: reward: 2000.000, steps: 200\n",
      "Episode 25: reward: 2000.000, steps: 200\n",
      "Episode 26: reward: 411.000, steps: 200\n",
      "Episode 27: reward: 419.000, steps: 200\n",
      "Episode 28: reward: 2000.000, steps: 200\n",
      "Episode 29: reward: 411.000, steps: 200\n",
      "Episode 30: reward: 414.000, steps: 200\n",
      "Episode 31: reward: 411.000, steps: 200\n",
      "Episode 32: reward: 411.000, steps: 200\n",
      "Episode 33: reward: 2000.000, steps: 200\n",
      "Episode 34: reward: 411.000, steps: 200\n",
      "Episode 35: reward: 2000.000, steps: 200\n",
      "Episode 36: reward: 411.000, steps: 200\n",
      "Episode 37: reward: 411.000, steps: 200\n",
      "Episode 38: reward: 411.000, steps: 200\n",
      "Episode 39: reward: 2000.000, steps: 200\n",
      "Episode 40: reward: 2000.000, steps: 200\n",
      "Episode 41: reward: 422.000, steps: 200\n",
      "Episode 42: reward: 2000.000, steps: 200\n",
      "Episode 43: reward: 416.000, steps: 200\n",
      "Episode 44: reward: 416.000, steps: 200\n",
      "Episode 45: reward: 2000.000, steps: 200\n",
      "Episode 46: reward: 411.000, steps: 200\n",
      "Episode 47: reward: 411.000, steps: 200\n",
      "Episode 48: reward: 414.000, steps: 200\n",
      "Episode 49: reward: 408.000, steps: 200\n",
      "Episode 50: reward: 408.000, steps: 200\n",
      "Episode 51: reward: 411.000, steps: 200\n",
      "Episode 52: reward: 2000.000, steps: 200\n",
      "Episode 53: reward: 419.000, steps: 200\n",
      "Episode 54: reward: 411.000, steps: 200\n",
      "Episode 55: reward: 414.000, steps: 200\n",
      "Episode 56: reward: 411.000, steps: 200\n",
      "Episode 57: reward: 2000.000, steps: 200\n",
      "Episode 58: reward: 2000.000, steps: 200\n",
      "Episode 59: reward: 414.000, steps: 200\n",
      "Episode 60: reward: 411.000, steps: 200\n",
      "Episode 61: reward: 2000.000, steps: 200\n",
      "Episode 62: reward: 414.000, steps: 200\n",
      "Episode 63: reward: 2000.000, steps: 200\n",
      "Episode 64: reward: 2000.000, steps: 200\n",
      "Episode 65: reward: 411.000, steps: 200\n",
      "Episode 66: reward: 2000.000, steps: 200\n",
      "Episode 67: reward: 416.000, steps: 200\n",
      "Episode 68: reward: 414.000, steps: 200\n",
      "Episode 69: reward: 2000.000, steps: 200\n",
      "Episode 70: reward: 408.000, steps: 200\n",
      "Episode 71: reward: 411.000, steps: 200\n",
      "Episode 72: reward: 414.000, steps: 200\n",
      "Episode 73: reward: 411.000, steps: 200\n",
      "Episode 74: reward: 408.000, steps: 200\n",
      "Episode 75: reward: 414.000, steps: 200\n",
      "Episode 76: reward: 408.000, steps: 200\n",
      "Episode 77: reward: 414.000, steps: 200\n",
      "Episode 78: reward: 411.000, steps: 200\n",
      "Episode 79: reward: 411.000, steps: 200\n",
      "Episode 80: reward: 411.000, steps: 200\n",
      "Episode 81: reward: 422.000, steps: 200\n",
      "Episode 82: reward: 408.000, steps: 200\n",
      "Episode 83: reward: 422.000, steps: 200\n",
      "Episode 84: reward: 411.000, steps: 200\n",
      "Episode 85: reward: 411.000, steps: 200\n",
      "Episode 86: reward: 411.000, steps: 200\n",
      "Episode 87: reward: 414.000, steps: 200\n",
      "Episode 88: reward: 2000.000, steps: 200\n",
      "Episode 89: reward: 411.000, steps: 200\n",
      "Episode 90: reward: 2000.000, steps: 200\n",
      "Episode 91: reward: 2000.000, steps: 200\n",
      "Episode 92: reward: 2000.000, steps: 200\n",
      "Episode 93: reward: 422.000, steps: 200\n",
      "Episode 94: reward: 408.000, steps: 200\n",
      "Episode 95: reward: 419.000, steps: 200\n",
      "Episode 96: reward: 2000.000, steps: 200\n",
      "Episode 97: reward: 411.000, steps: 200\n",
      "Episode 98: reward: 411.000, steps: 200\n",
      "Episode 99: reward: 408.000, steps: 200\n",
      "Episode 100: reward: 411.000, steps: 200\n",
      "873.27\n"
     ]
    }
   ],
   "source": [
    "scores = dqn.test(env, nb_episodes=100, visualize=False,verbose=1)\n",
    "print(np.mean(scores.history['episode_reward']))"
   ]
  },
  {
   "cell_type": "code",
   "execution_count": 28,
   "metadata": {},
   "outputs": [
    {
     "name": "stdout",
     "output_type": "stream",
     "text": [
      "Win Rate: 1.0\n"
     ]
    }
   ],
   "source": [
    "import numpy as np\n",
    "\n",
    "wins=0\n",
    "\n",
    "for episode in range(100):  # Run 100 episodes\n",
    "    state = env.reset()  # Reset environment for new episode\n",
    "    done = False\n",
    "    total_reward = 0\n",
    "\n",
    "    while not done:\n",
    "        action = dqn.forward(state)  # Get action from DQN agent\n",
    "        next_state, reward, done, info = env.step(action)  # Apply action to environment\n",
    "        total_reward += reward  # Accumulate reward\n",
    "        state = next_state  # Move to next state\n",
    "\n",
    "        if done:\n",
    "          if total_reward > info['opp1_score'] and total_reward > info['opp2_score']:\n",
    "              wins +=1\n",
    "\n",
    "\n",
    "print(f'Win Rate: {wins/100}')"
   ]
  }
 ],
 "metadata": {
  "kernelspec": {
   "display_name": "Python 3",
   "language": "python",
   "name": "python3"
  },
  "language_info": {
   "codemirror_mode": {
    "name": "ipython",
    "version": 3
   },
   "file_extension": ".py",
   "mimetype": "text/x-python",
   "name": "python",
   "nbconvert_exporter": "python",
   "pygments_lexer": "ipython3",
   "version": "3.10.7"
  }
 },
 "nbformat": 4,
 "nbformat_minor": 2
}
